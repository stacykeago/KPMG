{
  "nbformat": 4,
  "nbformat_minor": 0,
  "metadata": {
    "colab": {
      "provenance": [],
      "toc_visible": true,
      "authorship_tag": "ABX9TyND/Sk4kmJkIGUFjyA68n1q",
      "include_colab_link": true
    },
    "kernelspec": {
      "name": "python3",
      "display_name": "Python 3"
    },
    "language_info": {
      "name": "python"
    }
  },
  "cells": [
    {
      "cell_type": "markdown",
      "metadata": {
        "id": "view-in-github",
        "colab_type": "text"
      },
      "source": [
        "<a href=\"https://colab.research.google.com/github/stacykeago/KPMG/blob/main/KPMG.ipynb\" target=\"_parent\"><img src=\"https://colab.research.google.com/assets/colab-badge.svg\" alt=\"Open In Colab\"/></a>"
      ]
    },
    {
      "cell_type": "markdown",
      "source": [
        "1. Define the question\n",
        "There has been an increase of more than 10 per cent in the stock price of Tata Motors. This has resulted in more attention to Tata Group stocks from all over India. But again today, we are witnessing a fall in the prices of Tata Motors’ shares, which can be a negative signal for investors.  we want to learn how to analyze and predict the Tata Motors stock price\n",
        "\n",
        "2. Metric for success\n",
        "Making correct predictions on Tata Motors stock price with the model with the lowest mean squared error or the model with highest accuracy.\n",
        "\n",
        "3. Experimental design taken\n",
        "Import libraries\n",
        "Load  dataset\n",
        "clean the data \n",
        "Exploratory data analysis techniques\n",
        "\n",
        "4. Appropriateness of available data to answer the given question. To get the data:\n",
        "        *   Visit Yahoo Finance\n",
        "        *   Search for Tata Motors or TTM (it’s the stock symbol of Tata Motors)\n",
        "        *   Then click on Historical data and click on download.         \n"
      ],
      "metadata": {
        "id": "_BEmXNN2SIfR"
      }
    },
    {
      "cell_type": "markdown",
      "source": [
        "# DATA CLEANING"
      ],
      "metadata": {
        "id": "cPO7atb3SXuy"
      }
    },
    {
      "cell_type": "markdown",
      "source": [
        "## Import libraries"
      ],
      "metadata": {
        "id": "31k5Oemb9WEx"
      }
    },
    {
      "cell_type": "code",
      "source": [
        "# Import libraries\n",
        "import numpy as np\n",
        "import pandas as pd\n",
        "import plotly.graph_objects as go\n",
        "import matplotlib.pyplot as plt       # for data visualization\n",
        "import seaborn as sns                       # for statistical data visualization\n",
        "%matplotlib inline"
      ],
      "metadata": {
        "id": "yU1mQy6g8of8"
      },
      "execution_count": null,
      "outputs": []
    },
    {
      "cell_type": "markdown",
      "source": [
        "## Load Datasets"
      ],
      "metadata": {
        "id": "HRyq7Uqo9fCh"
      }
    },
    {
      "cell_type": "code",
      "source": [
        "ttm = pd.read_csv('/TTM.csv')\n",
        "ttm"
      ],
      "metadata": {
        "id": "QpymdmAU9ioA"
      },
      "execution_count": null,
      "outputs": []
    },
    {
      "cell_type": "code",
      "source": [
        "# Rows and columns\n",
        "ttm.shape"
      ],
      "metadata": {
        "id": "UXQ-dC1iAwJm"
      },
      "execution_count": null,
      "outputs": []
    },
    {
      "cell_type": "markdown",
      "source": [
        "## Dataset summary info"
      ],
      "metadata": {
        "id": "Tl0GTDPzBiog"
      }
    },
    {
      "cell_type": "code",
      "source": [
        "#Check for dataset info\n",
        "ttm.info()"
      ],
      "metadata": {
        "id": "9lvVc5H0A3Zi"
      },
      "execution_count": null,
      "outputs": []
    },
    {
      "cell_type": "markdown",
      "source": [
        "## Numeric Features Description"
      ],
      "metadata": {
        "id": "6x2xdHWSDo-K"
      }
    },
    {
      "cell_type": "code",
      "source": [
        "# Count, mean, standard deviation, minimum, maximum,\n",
        "ttm.describe().T"
      ],
      "metadata": {
        "id": "4UmtJeiXDoX6"
      },
      "execution_count": null,
      "outputs": []
    },
    {
      "cell_type": "markdown",
      "source": [
        "# Preprocessing data"
      ],
      "metadata": {
        "id": "2oRI41FovORL"
      }
    },
    {
      "cell_type": "markdown",
      "source": [
        "### Column list"
      ],
      "metadata": {
        "id": "cgYFGOuJBui1"
      }
    },
    {
      "cell_type": "code",
      "source": [
        "ttm.columns"
      ],
      "metadata": {
        "id": "lmkVDN4iBFYS"
      },
      "execution_count": null,
      "outputs": []
    },
    {
      "cell_type": "markdown",
      "source": [
        "###  Check for duplicates"
      ],
      "metadata": {
        "id": "jwWso9yIEbso"
      }
    },
    {
      "cell_type": "code",
      "source": [
        "ttm.duplicated().any()"
      ],
      "metadata": {
        "id": "XNU9XHTBBzGd"
      },
      "execution_count": null,
      "outputs": []
    },
    {
      "cell_type": "markdown",
      "source": [
        "### Check for unique"
      ],
      "metadata": {
        "id": "VBxzw6U4E1Ij"
      }
    },
    {
      "cell_type": "code",
      "source": [
        "# Check for unique values in each column\n",
        "ttm.nunique()"
      ],
      "metadata": {
        "id": "huICPk2hEfhF"
      },
      "execution_count": null,
      "outputs": []
    },
    {
      "cell_type": "markdown",
      "source": [
        "### Data types in each column"
      ],
      "metadata": {
        "id": "NEwq4F5uFEw_"
      }
    },
    {
      "cell_type": "code",
      "source": [
        "# Check for data types in each column\n",
        "ttm.dtypes"
      ],
      "metadata": {
        "id": "XyJ4dX-4E4zu"
      },
      "execution_count": null,
      "outputs": []
    },
    {
      "cell_type": "markdown",
      "source": [
        "#### # Convert Date column to data type \" Date\" format"
      ],
      "metadata": {
        "id": "Y6mU7RJag94Q"
      }
    },
    {
      "cell_type": "code",
      "source": [
        "# Convert Date column to data type \" Date\"\n",
        "ttm['Date'] = pd.to_datetime(ttm.Date)\n",
        "ttm.head()"
      ],
      "metadata": {
        "id": "aTe_O8bGggzf"
      },
      "execution_count": null,
      "outputs": []
    },
    {
      "cell_type": "markdown",
      "source": [
        "### Check for null values"
      ],
      "metadata": {
        "id": "unywKq3dTU-k"
      }
    },
    {
      "cell_type": "code",
      "source": [
        "ttm.isnull().sum()"
      ],
      "metadata": {
        "id": "kHa1CHr9TMsE"
      },
      "execution_count": null,
      "outputs": []
    },
    {
      "cell_type": "markdown",
      "source": [
        "### Check for NA Values"
      ],
      "metadata": {
        "id": "x5adI604lFn0"
      }
    },
    {
      "cell_type": "code",
      "source": [
        "print(\"NA values:\", ttm.isna().values.any())"
      ],
      "metadata": {
        "id": "GJ2N8VhXk_0z"
      },
      "execution_count": null,
      "outputs": []
    },
    {
      "cell_type": "markdown",
      "source": [
        "## Sorting dataset by date format"
      ],
      "metadata": {
        "id": "i9MUxYqGv20Y"
      }
    },
    {
      "cell_type": "code",
      "source": [
        "ttm.sort_values(by='Date', inplace=True)\n",
        "ttm.head()"
      ],
      "metadata": {
        "id": "m7aMdnBHvtEw"
      },
      "execution_count": null,
      "outputs": []
    },
    {
      "cell_type": "markdown",
      "source": [
        "### Outliers"
      ],
      "metadata": {
        "id": "YdwUzXIHP1-N"
      }
    },
    {
      "cell_type": "code",
      "source": [
        "columns_dict ={ 'Open':1, 'High':2, 'Low':3, 'Close':4, 'Adj Close':5, 'Volume':6}\n",
        "plt.figure(figsize=(20,30))\n",
        "\n",
        "# make a boxplot for each numerical column\n",
        "for variable,i in columns_dict.items():\n",
        "  plt.subplot(5,4,i)\n",
        "  plt.boxplot(ttm[variable])\n",
        "  plt.title(variable)\n",
        "\n",
        "plt.show()"
      ],
      "metadata": {
        "id": "oJfsdRkTG01q"
      },
      "execution_count": null,
      "outputs": []
    },
    {
      "cell_type": "markdown",
      "source": [
        "# EXPLORATORY DATA ANALYSIS"
      ],
      "metadata": {
        "id": "9BSs0aGNiRNT"
      }
    },
    {
      "cell_type": "markdown",
      "source": [
        "## Monthwise comparision between Stock open and close price"
      ],
      "metadata": {
        "id": "ck7xB5uqiJlO"
      }
    },
    {
      "cell_type": "code",
      "source": [
        "monthwise= ttm.groupby(ttm['Date'].dt.strftime('%B'))[['Open','Close']].mean()\n",
        "new_order = ['January', 'February', 'March', 'April', 'May', 'June', 'July', 'August', 'September', 'October', 'November', 'December']\n",
        "monthwise = monthwise.reindex(new_order, axis=0)\n",
        "monthwise"
      ],
      "metadata": {
        "id": "59dtW7tsh4zv"
      },
      "execution_count": null,
      "outputs": []
    },
    {
      "cell_type": "markdown",
      "source": [
        "## Plot Monthwise comparision between Stock open and close price"
      ],
      "metadata": {
        "id": "Jr5Zd4jKjFof"
      }
    },
    {
      "cell_type": "code",
      "source": [
        "fig = go.Figure()\n",
        "\n",
        "fig.add_trace(go.Bar(\n",
        "    x=monthwise.index,\n",
        "    y=monthwise['Open'],\n",
        "    name='Stock Open Price',\n",
        "    marker_color='crimson'))\n",
        "\n",
        "fig.add_trace(go.Bar(\n",
        "    x=monthwise.index,\n",
        "    y=monthwise['Close'],\n",
        "    name='Stock Close Price',\n",
        "    marker_color='lightsalmon'))\n",
        "\n",
        "fig.update_layout(barmode='group', xaxis_tickangle=-45, \n",
        "                  title='Monthwise comparision between Stock open and close price')\n",
        "fig.show()"
      ],
      "metadata": {
        "id": "w0cUvo_qiisT"
      },
      "execution_count": null,
      "outputs": []
    },
    {
      "cell_type": "markdown",
      "source": [
        "## Monthwise High and Low stock price"
      ],
      "metadata": {
        "id": "0VzVOvWMj-Ld"
      }
    },
    {
      "cell_type": "code",
      "source": [
        "# Monthwise High and Low stock price\n",
        "ttm.groupby(ttm['Date'].dt.strftime('%B'))['Low'].min()"
      ],
      "metadata": {
        "id": "yho95Q_NxnXh"
      },
      "execution_count": null,
      "outputs": []
    },
    {
      "cell_type": "markdown",
      "source": [
        "## Plot Monthwise High and Low stock price"
      ],
      "metadata": {
        "id": "EIqE0l2ix48x"
      }
    },
    {
      "cell_type": "code",
      "source": [
        "ttm.groupby(ttm['Date'].dt.strftime('%B'))['Low'].min()\n",
        "monthwise_high = ttm.groupby(ttm['Date'].dt.strftime('%B'))['High'].max()\n",
        "monthwise_high = monthwise_high.reindex(new_order, axis=0)\n",
        "\n",
        "monthwise_low = ttm.groupby(ttm['Date'].dt.strftime('%B'))['Low'].min()\n",
        "monthwise_low = monthwise_low.reindex(new_order, axis=0)\n",
        "\n",
        "fig = go.Figure()\n",
        "fig.add_trace(go.Bar(\n",
        "    x=monthwise_high.index,\n",
        "    y=monthwise_high,\n",
        "    name='Stock high Price',\n",
        "    marker_color='rgb(0, 153, 204)'))\n",
        "\n",
        "fig.add_trace(go.Bar(\n",
        "    x=monthwise_low.index,\n",
        "    y=monthwise_low,\n",
        "    name='Stock low Price',\n",
        "    marker_color='rgb(255, 128, 0)'))"
      ],
      "metadata": {
        "id": "-l--zNdbjU0K"
      },
      "execution_count": null,
      "outputs": []
    },
    {
      "cell_type": "markdown",
      "source": [
        "## Trend comparision between stock open price, close price, high price, low price"
      ],
      "metadata": {
        "id": "_sfqAljKkJl2"
      }
    },
    {
      "cell_type": "code",
      "source": [
        "from itertools import cycle\n",
        "import plotly.graph_objects as go\n",
        "import plotly.express as px\n",
        "from plotly.subplots import make_subplots"
      ],
      "metadata": {
        "id": "I56NWsbNkrfK"
      },
      "execution_count": null,
      "outputs": []
    },
    {
      "cell_type": "code",
      "source": [
        "names = cycle(['Stock Open Price','Stock Close Price','Stock High Price','Stock Low Price'])\n",
        "\n",
        "fig = px.line(ttm, x=ttm.Date, y=[ttm['Open'], ttm['Close'], \n",
        "                                          ttm['High'], ttm['Low']],\n",
        "             labels={'Date': 'Date','value':'Stock value'})\n",
        "fig.update_layout(title_text='Stock analysis chart', font_size=15, font_color='black',legend_title_text='Stock Parameters')\n",
        "fig.for_each_trace(lambda t:  t.update(name = next(names)))\n",
        "fig.update_xaxes(showgrid=False)\n",
        "fig.update_yaxes(showgrid=False)\n",
        "\n",
        "fig.show()\n",
        "\n"
      ],
      "metadata": {
        "id": "T8WBb4qlkLjv"
      },
      "execution_count": null,
      "outputs": []
    },
    {
      "cell_type": "markdown",
      "source": [
        "###  Close price prediction preparation and preprocessing"
      ],
      "metadata": {
        "id": "SjTl_x87l3cY"
      }
    },
    {
      "cell_type": "code",
      "source": [
        "# Make separate dataframe of close price\n",
        "\n",
        "closedf = ttm[['Date','Close']]\n",
        "print(\"Shape of close dataframe:\", closedf.shape)"
      ],
      "metadata": {
        "id": "2RwWnJJVlkFC"
      },
      "execution_count": null,
      "outputs": []
    },
    {
      "cell_type": "markdown",
      "source": [
        "#### Plotting Stock Close price chart"
      ],
      "metadata": {
        "id": "7jtzUcyJycK6"
      }
    },
    {
      "cell_type": "code",
      "source": [
        "# Plotting Stock Close price chart\n",
        "fig = px.line(closedf, x=closedf.Date, y=closedf.Close,labels={'Date':'Date','Close':'Close Stock'})\n",
        "fig.update_traces(marker_line_width=2, opacity=0.8)\n",
        "fig.update_layout(title_text='Stock close price chart', plot_bgcolor='white', font_size=15, font_color='black')\n",
        "fig.update_xaxes(showgrid=False)\n",
        "fig.update_yaxes(showgrid=False)\n",
        "fig.show()"
      ],
      "metadata": {
        "id": "6sNJwj4ul-aE"
      },
      "execution_count": null,
      "outputs": []
    },
    {
      "cell_type": "markdown",
      "source": [
        "## Print the duration of the dataset"
      ],
      "metadata": {
        "id": "ll_vTmRGhgJS"
      }
    },
    {
      "cell_type": "code",
      "source": [
        "print(\"Starting date: \",ttm.iloc[0][0])\n",
        "print(\"Ending date: \", ttm.iloc[-1][0])\n",
        "print(\"Duration: \", ttm.iloc[-1][0]-ttm.iloc[0][0])"
      ],
      "metadata": {
        "id": "we5KhRXsxQCJ"
      },
      "execution_count": null,
      "outputs": []
    },
    {
      "cell_type": "markdown",
      "source": [
        "## Consider the last 6 months"
      ],
      "metadata": {
        "id": "kGGDuaMywXTa"
      }
    },
    {
      "cell_type": "code",
      "source": [
        "closedf = closedf[closedf['Date'] > '2021-12-01']\n",
        "close_stock = closedf.copy()\n",
        "print(\"Total data for prediction: \",closedf.shape[0])"
      ],
      "metadata": {
        "id": "qzMSoS05mf7E"
      },
      "execution_count": null,
      "outputs": []
    },
    {
      "cell_type": "code",
      "source": [
        "fig = px.line(closedf, x=closedf.Date, y=closedf.Close,labels={'Date':'Date','Close':'Close Stock'})\n",
        "fig.update_traces(marker_line_width=2, opacity=0.8, marker_line_color='orange')\n",
        "fig.update_layout(title_text='Considered last 6months period to predict Stock close price', plot_bgcolor='white', font_size=15, font_color='black')\n",
        "fig.update_xaxes(showgrid=False)\n",
        "fig.update_yaxes(showgrid=False)\n",
        "fig.show()"
      ],
      "metadata": {
        "id": "j0Xasts2m0gD"
      },
      "execution_count": null,
      "outputs": []
    },
    {
      "cell_type": "markdown",
      "source": [
        "# UNIVARIATE ANALYSIS"
      ],
      "metadata": {
        "id": "05xmh8l5LCvV"
      }
    },
    {
      "cell_type": "code",
      "source": [
        "ttm[['Close']].plot()\n",
        "plt.title(\"Tata Motors Stock prediction\")\n",
        "plt.show()"
      ],
      "metadata": {
        "id": "uBv59Y_Rczh9"
      },
      "execution_count": null,
      "outputs": []
    },
    {
      "cell_type": "code",
      "source": [
        "from matplotlib.axes._axes import _log as matplotlib_axes_logger\n",
        "matplotlib_axes_logger.setLevel('ERROR')"
      ],
      "metadata": {
        "id": "Zxy4C_ojfYIp"
      },
      "execution_count": null,
      "outputs": []
    },
    {
      "cell_type": "code",
      "source": [
        "plt.figure(figsize=(10,10))\n",
        "lag_plot(ttm.Open, lag=5)\n",
        "plt.title(\"Tata Autocorrelation plot\")\n"
      ],
      "metadata": {
        "id": "9-9SKfbeeUve"
      },
      "execution_count": null,
      "outputs": []
    },
    {
      "cell_type": "code",
      "source": [
        "# Univariate analysis\n",
        "sns.displot(ttm.Open.dropna(), kde=False, bins = 39);\n",
        "sns.displot(ttm.Close.dropna(), kde=False, bins = 39);\n",
        "sns.displot(ttm.Volume.dropna(), kde=False, bins = 39);\n",
        "sns.displot(ttm.High.dropna(), kde=False, bins = 39);\n",
        "sns.displot(ttm.Low.dropna(), kde=False, bins = 39);\n"
      ],
      "metadata": {
        "id": "sUXpHQFeKOdP"
      },
      "execution_count": null,
      "outputs": []
    },
    {
      "cell_type": "markdown",
      "source": [
        "## Pair plot"
      ],
      "metadata": {
        "id": "TSsERDKyMgVU"
      }
    },
    {
      "cell_type": "code",
      "source": [
        "sns.set()\n",
        "columns1 = [ 'Open', 'High', 'Low', 'Close', 'Adj Close', 'Volume']\n",
        "sns.pairplot(ttm[columns1],height = 2 ,kind ='scatter',diag_kind='kde')\n",
        "plt.show()"
      ],
      "metadata": {
        "id": "sMJYRJ7uLn2-"
      },
      "execution_count": null,
      "outputs": []
    },
    {
      "cell_type": "markdown",
      "source": [
        "# BIVARIATE ANALYSIS"
      ],
      "metadata": {
        "id": "3C-I-11CPS6_"
      }
    },
    {
      "cell_type": "code",
      "source": [
        "# Heatmap\n",
        "plt.figure(figsize=(30, 12))\n",
        "vg_corr = ttm.corr()\n",
        "sns.heatmap(vg_corr, \n",
        "            xticklabels = vg_corr.columns.values,\n",
        "            yticklabels = vg_corr.columns.values,\n",
        "            annot = True);"
      ],
      "metadata": {
        "id": "q_t3aQjsOHBS"
      },
      "execution_count": null,
      "outputs": []
    },
    {
      "cell_type": "code",
      "source": [
        "columns_dict ={ 'Open':1, 'High':2, 'Low':3, 'Close':4, 'Adj Close':5, 'Volume':6}\n",
        "\n",
        "# Ploting the univariate summaries and recording our observations\n",
        "# plot histograms for all numeric columns\n",
        "# we use the dictionary we had earlier on saved\n",
        "\n",
        "plt.figure(figsize = (30,50))\n",
        "for variable,i in columns_dict.items():\n",
        "  plt.subplot(5,4,i)\n",
        "  sns.displot(ttm[variable])\n",
        "  plt.title(variable)\n",
        "  plt.show()"
      ],
      "metadata": {
        "id": "V4uFO-NaGXt9"
      },
      "execution_count": null,
      "outputs": []
    },
    {
      "cell_type": "markdown",
      "source": [
        "### Data Correlation"
      ],
      "metadata": {
        "id": "qoHbuVyaR_wy"
      }
    },
    {
      "cell_type": "code",
      "source": [
        "print(ttm.corr())"
      ],
      "metadata": {
        "id": "U7DnMUB8QRU-"
      },
      "execution_count": null,
      "outputs": []
    },
    {
      "cell_type": "markdown",
      "source": [
        "### Price prediction"
      ],
      "metadata": {
        "id": "Ryj9fO7JRAFs"
      }
    },
    {
      "cell_type": "code",
      "source": [
        "!pip install autots\n",
        "# Using the autots library in Python to prepare the stock prices of Tata Motors for the next 5 days"
      ],
      "metadata": {
        "id": "2sJiNNKMQo7f"
      },
      "execution_count": null,
      "outputs": []
    },
    {
      "cell_type": "code",
      "source": [
        "#from autots import AutoTS\n",
        "#model = AutoTS(forecast_length=5, frequency='infer', ensemble='simple')\n",
        "#model = model.fit(ttm, date_col='Date', value_col='Close', id_col=None)\n",
        "#prediction = model.predict()\n",
        "#forecast = prediction.forecast\n",
        "#print(forecast)"
      ],
      "metadata": {
        "id": "buMRMKW7Q-j3"
      },
      "execution_count": null,
      "outputs": []
    },
    {
      "cell_type": "markdown",
      "source": [
        "# RANDOM FOREST REGRESSION"
      ],
      "metadata": {
        "id": "QNkAjdMI0BhS"
      }
    },
    {
      "cell_type": "markdown",
      "source": [
        "### Normalizing / scaling close value between 0 to 1"
      ],
      "metadata": {
        "id": "lsnijSAQy-Ml"
      }
    },
    {
      "cell_type": "code",
      "source": [
        "from sklearn.metrics import mean_squared_error, mean_absolute_error, explained_variance_score, r2_score \n",
        "from sklearn.metrics import mean_poisson_deviance, mean_gamma_deviance, accuracy_score\n",
        "from sklearn.preprocessing import MinMaxScaler"
      ],
      "metadata": {
        "id": "FCX4GV5Dnd31"
      },
      "execution_count": null,
      "outputs": []
    },
    {
      "cell_type": "code",
      "source": [
        "close_stock = closedf.copy()\n",
        "del closedf['Date']\n",
        "scaler=MinMaxScaler(feature_range=(0,1))\n",
        "closedf=scaler.fit_transform(np.array(closedf).reshape(-1,1))\n",
        "print(closedf.shape)"
      ],
      "metadata": {
        "id": "WbWVR3d5nSI-"
      },
      "execution_count": null,
      "outputs": []
    },
    {
      "cell_type": "markdown",
      "source": [
        "### Split data for training and testing"
      ],
      "metadata": {
        "id": "-2_9A7nSyxA1"
      }
    },
    {
      "cell_type": "code",
      "source": [
        "training_size=int(len(closedf)*0.65)\n",
        "test_size=len(closedf)-training_size\n",
        "train_data,test_data=closedf[0:training_size,:],closedf[training_size:len(closedf),:1]\n",
        "print(\"train_Data: \", train_data.shape)\n",
        "print(\"test_Data: \", test_data.shape)"
      ],
      "metadata": {
        "id": "JEQHX2mh0SnU"
      },
      "execution_count": null,
      "outputs": []
    },
    {
      "cell_type": "code",
      "source": [
        "# convert an array of values into a dataset matrix\n",
        "def create_dataset(dataset, time_step=1):\n",
        "    dataX, dataY = [], []\n",
        "    for i in range(len(dataset)-time_step-1):\n",
        "        a = dataset[i:(i+time_step), 0]   ###i=0, 0,1,2,3-----99   100 \n",
        "        dataX.append(a)\n",
        "        dataY.append(dataset[i + time_step, 0])\n",
        "    return np.array(dataX), np.array(dataY)"
      ],
      "metadata": {
        "id": "dtyuDfQ94HYj"
      },
      "execution_count": null,
      "outputs": []
    },
    {
      "cell_type": "code",
      "source": [
        "# reshape into X=t,t+1,t+2,t+3 and Y=t+4\n",
        "time_step = 15\n",
        "X_train, y_train = create_dataset(train_data, time_step)\n",
        "X_test, y_test = create_dataset(test_data, time_step)\n",
        "\n",
        "print(\"X_train: \", X_train.shape)\n",
        "print(\"y_train: \", y_train.shape)\n",
        "print(\"X_test: \", X_test.shape)\n",
        "print(\"y_test\", y_test.shape)"
      ],
      "metadata": {
        "id": "47A6OX794W7j"
      },
      "execution_count": null,
      "outputs": []
    },
    {
      "cell_type": "markdown",
      "source": [
        "# KNN"
      ],
      "metadata": {
        "id": "1XuXgKbZ4n2K"
      }
    },
    {
      "cell_type": "code",
      "source": [
        "from sklearn import neighbors\n",
        "\n",
        "K = time_step\n",
        "neighbor = neighbors.KNeighborsRegressor(n_neighbors = K)\n",
        "neighbor.fit(X_train, y_train)"
      ],
      "metadata": {
        "id": "nG2FAdiv4ljZ"
      },
      "execution_count": null,
      "outputs": []
    },
    {
      "cell_type": "code",
      "source": [
        "# Lets Do the prediction \n",
        "\n",
        "train_predict=neighbor.predict(X_train)\n",
        "test_predict=neighbor.predict(X_test)\n",
        "\n",
        "train_predict = train_predict.reshape(-1,1)\n",
        "test_predict = test_predict.reshape(-1,1)\n",
        "\n",
        "print(\"Train data prediction:\", train_predict.shape)\n",
        "print(\"Test data prediction:\", test_predict.shape)"
      ],
      "metadata": {
        "id": "F9udeiEx44_i"
      },
      "execution_count": null,
      "outputs": []
    },
    {
      "cell_type": "code",
      "source": [
        "# Transform back to original form\n",
        "\n",
        "train_predict = scaler.inverse_transform(train_predict) \n",
        "test_predict = scaler.inverse_transform(test_predict)\n",
        "original_ytrain = scaler.inverse_transform(y_train.reshape(-1,1)) \n",
        "original_ytest = scaler.inverse_transform(y_test.reshape(-1,1)) "
      ],
      "metadata": {
        "id": "fEk9TBt04px-"
      },
      "execution_count": null,
      "outputs": []
    },
    {
      "cell_type": "code",
      "source": [
        "import math"
      ],
      "metadata": {
        "id": "etppeiSX5J-R"
      },
      "execution_count": null,
      "outputs": []
    },
    {
      "cell_type": "code",
      "source": [
        "# Evaluation metrices RMSE and MAE\n",
        "print(\"Train data RMSE: \", math.sqrt(mean_squared_error(original_ytrain,train_predict)))\n",
        "print(\"Train data MSE: \", mean_squared_error(original_ytrain,train_predict))\n",
        "print(\"Test data MAE: \", mean_absolute_error(original_ytrain,train_predict))\n",
        "print(\"-------------------------------------------------------------------------------------\")\n",
        "print(\"Test data RMSE: \", math.sqrt(mean_squared_error(original_ytest,test_predict)))\n",
        "print(\"Test data MSE: \", mean_squared_error(original_ytest,test_predict))\n",
        "print(\"Test data MAE: \", mean_absolute_error(original_ytest,test_predict))"
      ],
      "metadata": {
        "id": "o4Nr6U6n5C6n"
      },
      "execution_count": null,
      "outputs": []
    },
    {
      "cell_type": "markdown",
      "source": [
        "#CONCLUSION"
      ],
      "metadata": {
        "id": "Wn_YCGoQ5ZVD"
      }
    },
    {
      "cell_type": "code",
      "source": [
        "#Explained variance regression score\n",
        "#The explained variance score explains the dispersion of errors of a given dataset, and the formula is written as follows: \n",
        "#Here, and Var(y) is the variance of prediction errors and actual values respectively. Scores close to 1.0 are highly desired,\n",
        " #indicating better squares of standard deviations of errors."
      ],
      "metadata": {
        "id": "JTIvd5ZO5bUM"
      },
      "execution_count": null,
      "outputs": []
    },
    {
      "cell_type": "code",
      "source": [
        "print(\"Train data explained variance regression score:\", explained_variance_score(original_ytrain, train_predict))\n",
        "print(\"Test data explained variance regression score:\", explained_variance_score(original_ytest, test_predict))"
      ],
      "metadata": {
        "id": "-3E55Kc55g9m"
      },
      "execution_count": null,
      "outputs": []
    },
    {
      "cell_type": "code",
      "source": [
        "# R2 score for regression\n",
        "# R-squared (R2) is a statistical measure that represents the proportion of the\n",
        " # variance for a dependent variable that's explained by an independent variable or variables in a regression model.\n",
        " # 1 = Best\n",
        "# 0 or < 0 = worse\n",
        "\n",
        "print(\"Train data R2 score:\", r2_score(original_ytrain, train_predict))\n",
        "print(\"Test data R2 score:\", r2_score(original_ytest, test_predict))"
      ],
      "metadata": {
        "id": "LcXu5G335s1T"
      },
      "execution_count": null,
      "outputs": []
    },
    {
      "cell_type": "code",
      "source": [
        "x_input=test_data[len(test_data)-time_step:].reshape(1,-1)\n",
        "temp_input=list(x_input)\n",
        "temp_input=temp_input[0].tolist()\n",
        "\n",
        "from numpy import array\n",
        "\n",
        "lst_output=[]\n",
        "n_steps=time_step\n",
        "i=0\n",
        "pred_days = 10\n",
        "while(i<pred_days):\n",
        "    \n",
        "    if(len(temp_input)>time_step):\n",
        "        \n",
        "        x_input=np.array(temp_input[1:])\n",
        "        #print(\"{} day input {}\".format(i,x_input))\n",
        "        x_input=x_input.reshape(1,-1)\n",
        "        \n",
        "        yhat = neighbor.predict(x_input)\n",
        "        #print(\"{} day output {}\".format(i,yhat))\n",
        "        temp_input.extend(yhat.tolist())\n",
        "        temp_input=temp_input[1:]\n",
        "       \n",
        "        lst_output.extend(yhat.tolist())\n",
        "        i=i+1\n",
        "        \n",
        "    else:\n",
        "        yhat = neighbor.predict(x_input)\n",
        "        \n",
        "        temp_input.extend(yhat.tolist())\n",
        "        lst_output.extend(yhat.tolist())\n",
        "        \n",
        "        i=i+1\n",
        "        \n",
        "print(\"Output of predicted next days: \", len(lst_output))"
      ],
      "metadata": {
        "id": "UW20mqXe6TmB"
      },
      "execution_count": null,
      "outputs": []
    },
    {
      "cell_type": "markdown",
      "source": [
        "### Plotting last 15 days and next predicted 10 days"
      ],
      "metadata": {
        "id": "ryg0GeY66zn5"
      }
    },
    {
      "cell_type": "code",
      "source": [
        "last_days=np.arange(1,time_step+1)\n",
        "day_pred=np.arange(time_step+1,time_step+pred_days+1)\n",
        "print(last_days)\n",
        "print(day_pred)"
      ],
      "metadata": {
        "id": "vc2ms2xN6oDR"
      },
      "execution_count": null,
      "outputs": []
    },
    {
      "cell_type": "code",
      "source": [
        "temp_mat = np.empty((len(last_days)+pred_days+1,1))\n",
        "temp_mat[:] = np.nan\n",
        "temp_mat = temp_mat.reshape(1,-1).tolist()[0]\n",
        "\n",
        "last_original_days_value = temp_mat\n",
        "next_predicted_days_value = temp_mat\n",
        "\n",
        "last_original_days_value[0:time_step+1] = scaler.inverse_transform(closedf[len(closedf)-time_step:]).reshape(1,-1).tolist()[0]\n",
        "next_predicted_days_value[time_step+1:] = scaler.inverse_transform(np.array(lst_output).reshape(-1,1)).reshape(1,-1).tolist()[0]\n",
        "\n",
        "new_pred_plot = pd.DataFrame({\n",
        "    'last_original_days_value':last_original_days_value,\n",
        "    'next_predicted_days_value':next_predicted_days_value\n",
        "})\n",
        "\n",
        "names = cycle(['Last 15 days close price','Predicted next 10 days close price'])\n",
        "fig = px.line(new_pred_plot,x=new_pred_plot.index, y=[new_pred_plot['last_original_days_value'],\n",
        "                                                      new_pred_plot['next_predicted_days_value']],\n",
        "              labels={'value': 'Stock price','index': 'Timestamp'})\n",
        "fig.update_layout(title_text='Compare last 15 days vs next 10 days',\n",
        "                  plot_bgcolor='white', font_size=15, font_color='black',legend_title_text='Close Price')\n",
        "fig.for_each_trace(lambda t:  t.update(name = next(names)))\n",
        "\n",
        "fig.update_xaxes(showgrid=False)\n",
        "fig.update_yaxes(showgrid=False)\n",
        "fig.show()"
      ],
      "metadata": {
        "id": "DJq3vZGm6ue1"
      },
      "execution_count": null,
      "outputs": []
    },
    {
      "cell_type": "code",
      "source": [
        "knndf=closedf.tolist()\n",
        "knndf.extend((np.array(lst_output).reshape(-1,1)).tolist())\n",
        "knndf=scaler.inverse_transform(knndf).reshape(1,-1).tolist()[0]\n",
        "\n",
        "names = cycle(['Close price'])\n",
        "\n",
        "fig = px.line(knndf,labels={'value': 'Stock price','index': 'Timestamp'})\n",
        "fig.update_layout(title_text='Plotting whole closing stock price with prediction',\n",
        "                  plot_bgcolor='white', font_size=15, font_color='black',legend_title_text='Stock')\n",
        "fig.for_each_trace(lambda t:  t.update(name = next(names)))\n",
        "\n",
        "fig.update_xaxes(showgrid=False)\n",
        "fig.update_yaxes(showgrid=False)\n",
        "fig.show()"
      ],
      "metadata": {
        "id": "Yg22RqQT7Hwk"
      },
      "execution_count": null,
      "outputs": []
    }
  ]
}